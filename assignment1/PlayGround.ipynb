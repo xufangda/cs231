{
 "cells": [
  {
   "cell_type": "markdown",
   "metadata": {},
   "source": [
    "## This will be my playground for implementing some interesting code."
   ]
  },
  {
   "cell_type": "markdown",
   "metadata": {},
   "source": [
    "I will implement a multiple linear classifier first for cifar dataset"
   ]
  },
  {
   "cell_type": "code",
   "execution_count": 2,
   "metadata": {},
   "outputs": [],
   "source": [
    "import numpy as np\n",
    "import matplotlib.pyplot as plt\n",
    "%matplotlib inline\n",
    "\n",
    "# for auto-reloading external modules\n",
    "# see http://stackoverflow.com/questions/1907993/autoreload-of-modules-in-ipython\n",
    "%load_ext autoreload\n",
    "%autoreload 2"
   ]
  },
  {
   "cell_type": "code",
   "execution_count": 3,
   "metadata": {},
   "outputs": [
    {
     "name": "stdout",
     "output_type": "stream",
     "text": [
      "Train data shape:  (49000, 3072)\n",
      "Train labels shape:  (49000,)\n",
      "Validation data shape:  (1000, 3072)\n",
      "Validation labels shape:  (1000,)\n",
      "Test data shape:  (1000, 3072)\n",
      "Test labels shape:  (1000,)\n"
     ]
    }
   ],
   "source": [
    "from cs231n.data_utils import load_CIFAR10\n",
    "\n",
    "def get_CIFAR10_data(num_training=49000, num_validation=1000, num_test=1000):\n",
    "    \"\"\"\n",
    "    Load the CIFAR-10 dataset from disk and perform preprocessing to prepare\n",
    "    it for the two-layer neural net classifier. These are the same steps as\n",
    "    we used for the SVM, but condensed to a single function.  \n",
    "    \"\"\"\n",
    "    # Load the raw CIFAR-10 data\n",
    "    cifar10_dir = 'cs231n/datasets/cifar-10-batches-py'\n",
    "    \n",
    "    X_train, y_train, X_test, y_test = load_CIFAR10(cifar10_dir)\n",
    "        \n",
    "    # Subsample the data\n",
    "    mask = list(range(num_training, num_training + num_validation))\n",
    "    X_val = X_train[mask]\n",
    "    y_val = y_train[mask]\n",
    "    mask = list(range(num_training))\n",
    "    X_train = X_train[mask]\n",
    "    y_train = y_train[mask]\n",
    "    mask = list(range(num_test))\n",
    "    X_test = X_test[mask]\n",
    "    y_test = y_test[mask]\n",
    "\n",
    "    # Normalize the data: subtract the mean image\n",
    "    mean_image = np.mean(X_train, axis=0)\n",
    "    X_train -= mean_image\n",
    "    X_val -= mean_image\n",
    "    X_test -= mean_image\n",
    "\n",
    "    # Reshape data to rows\n",
    "    X_train = X_train.reshape(num_training, -1)\n",
    "    X_val = X_val.reshape(num_validation, -1)\n",
    "    X_test = X_test.reshape(num_test, -1)\n",
    "\n",
    "    return X_train, y_train, X_val, y_val, X_test, y_test\n",
    "\n",
    "\n",
    "# Cleaning up variables to prevent loading data multiple times (which may cause memory issue)\n",
    "try:\n",
    "   del X_train, y_train\n",
    "   del X_test, y_test\n",
    "   print('Clear previously loaded data.')\n",
    "except:\n",
    "   pass\n",
    "\n",
    "# Invoke the above function to get our data.\n",
    "X_train, y_train, X_val, y_val, X_test, y_test = get_CIFAR10_data()\n",
    "print('Train data shape: ', X_train.shape)\n",
    "print('Train labels shape: ', y_train.shape)\n",
    "print('Validation data shape: ', X_val.shape)\n",
    "print('Validation labels shape: ', y_val.shape)\n",
    "print('Test data shape: ', X_test.shape)\n",
    "print('Test labels shape: ', y_test.shape)"
   ]
  },
  {
   "cell_type": "code",
   "execution_count": 73,
   "metadata": {},
   "outputs": [
    {
     "name": "stderr",
     "output_type": "stream",
     "text": [
      "Clipping input data to the valid range for imshow with RGB data ([0..1] for floats or [0..255] for integers).\n"
     ]
    },
    {
     "data": {
      "image/png": "[encoded data removed]",
      "text/plain": [
       "<Figure size 432x288 with 1 Axes>"
      ]
     },
     "metadata": {},
     "output_type": "display_data"
    }
   ],
   "source": [
    "plt.imshow(X_test[103,:].astype(int).reshape(32, 32, 3))\n",
    "X_test[93,:].astype(int)\n",
    "test=X_test[103,:]"
   ]
  },
  {
   "cell_type": "code",
   "execution_count": 82,
   "metadata": {},
   "outputs": [],
   "source": [
    "test_zeromean=test-np.mean(test)\n",
    "test_univar=test_zeromean/np.std(test_zeromean)\n",
    "test_vec=test_univar[:,None]"
   ]
  },
  {
   "cell_type": "code",
   "execution_count": 99,
   "metadata": {},
   "outputs": [
    {
     "data": {
      "text/plain": [
       "array([[3072.]])"
      ]
     },
     "execution_count": 99,
     "metadata": {},
     "output_type": "execute_result"
    }
   ],
   "source": [
    "test_vec.T.dot(test_vec)"
   ]
  },
  {
   "cell_type": "code",
   "execution_count": 101,
   "metadata": {},
   "outputs": [],
   "source": [
    "\n",
    "cov = test_vec.T.dot(test_vec) / test_vec.shape[0]\n",
    "U,S,V = np.linalg.svd(cov)\n",
    "\n",
    "p_result=test_vec.dot(U)"
   ]
  },
  {
   "cell_type": "code",
   "execution_count": 102,
   "metadata": {},
   "outputs": [
    {
     "data": {
      "text/plain": [
       "<matplotlib.image.AxesImage at 0x27c8db43668>"
      ]
     },
     "execution_count": 102,
     "metadata": {},
     "output_type": "execute_result"
    },
    {
     "data": {
      "image/png": "[encoded data removed]",
      "text/plain": [
       "<Figure size 432x288 with 1 Axes>"
      ]
     },
     "metadata": {},
     "output_type": "display_data"
    }
   ],
   "source": [
    "pimg=(p_result-min(p_result))/(max(p_result)-min(p_result))\n",
    "plt.imshow(pimg.reshape(32, 32, 3))"
   ]
  },
  {
   "cell_type": "code",
   "execution_count": 11,
   "metadata": {},
   "outputs": [
    {
     "data": {
      "text/plain": [
       "(3072,)"
      ]
     },
     "execution_count": 11,
     "metadata": {},
     "output_type": "execute_result"
    }
   ],
   "source": [
    "def L_i_vectorized(x,y,W):\n",
    "    scores=W.dot(x)\n",
    "    margins=np.maximum(0,scores-scores[y]+1)\n",
    "    margins[y]=0\n",
    "    return loss_i"
   ]
  },
  {
   "cell_type": "code",
   "execution_count": 82,
   "metadata": {},
   "outputs": [],
   "source": [
    "import numpy as np\n",
    "\n",
    "class target_f():\n",
    "    \n",
    "    def __init__(self,theta1, theta2, a=10, b=1):\n",
    "        self.theta1=theta1\n",
    "        self.theta2=theta2\n",
    "        self.a=a\n",
    "        self.b=b\n",
    "    \n",
    "    def t_f(self):\n",
    "        theta1=self.theta1\n",
    "        theta2=self.theta2\n",
    "        a=self.a\n",
    "        b=self.b\n",
    "        return a*(theta2-theta1**2)**2 + (b-theta1)**2\n",
    "    \n",
    "    def g_f(self):\n",
    "        theta1=self.theta1\n",
    "        theta2=self.theta2\n",
    "        a=self.a\n",
    "        b=self.b\n",
    "        ret=np.zeros(2)\n",
    "        ret[0]=2*a*(theta2-theta1**2)*(-2*theta1)-2*(b-theta1)\n",
    "        ret[1]=2*a*(theta2-theta1**2)\n",
    "        \n",
    "        return ret\n",
    "    \n",
    "    def h_f(self):\n",
    "        theta1=self.theta1\n",
    "        theta2=self.theta2\n",
    "        a=self.a\n",
    "        b=self.b\n",
    "        ret=np.zeros([2,2])\n",
    "        \n",
    "        ret[0,0]=4*a*3*theta1**2+2-4*a*theta2\n",
    "        ret[0,1]=-4*a*theta1\n",
    "        ret[1,0]=-4*a*theta1\n",
    "        ret[1,1]=2*a\n",
    "        \n",
    "        return ret\n",
    "    \n",
    "    \n",
    "\n",
    "        "
   ]
  },
  {
   "cell_type": "code",
   "execution_count": 83,
   "metadata": {},
   "outputs": [],
   "source": [
    "m=target_f(-0.5,0.5)\n"
   ]
  },
  {
   "cell_type": "code",
   "execution_count": 84,
   "metadata": {},
   "outputs": [
    {
     "name": "stdout",
     "output_type": "stream",
     "text": [
      "2.875\n",
      "[2. 5.]\n",
      "[[12. 20.]\n",
      " [20. 20.]]\n"
     ]
    }
   ],
   "source": [
    "print(m.t_f())\n",
    "print(m.g_f())\n",
    "print(m.h_f())\n"
   ]
  },
  {
   "cell_type": "code",
   "execution_count": 87,
   "metadata": {},
   "outputs": [
    {
     "name": "stdout",
     "output_type": "stream",
     "text": [
      "2.0\n",
      "[-0.875  0.625]\n",
      "2.0\n",
      "[-0.38319672 -0.09503074]\n",
      "2.0\n",
      "[-0.14624285 -0.03476016]\n",
      "2.0\n",
      "[ 0.39368827 -0.13653516]\n",
      "2.0\n",
      "[0.48245346 0.22488208]\n",
      "2.0\n",
      "[0.929545   0.66416306]\n",
      "2.0\n",
      "[0.94364216 0.89026179]\n",
      "2.0\n",
      "[0.99977689 0.99640272]\n",
      "2.0\n",
      "[0.99998677 0.9999735 ]\n",
      "2.0\n",
      "[1. 1.]\n",
      "0.0\n",
      "[1. 1.]\n"
     ]
    }
   ],
   "source": [
    "a=1\n",
    "vec=np.array([-0.5,0.5])\n",
    "    \n",
    "while(a):\n",
    "    m=target_f(*vec)\n",
    "    inv_m=np.linalg.inv(m.h_f())\n",
    "    g=m.g_f()\n",
    "    delta=-inv_m.dot(g)\n",
    "    a=abs(g)>1e-8*(abs(m.h_f())+0.01)\n",
    "    a=np.linalg.norm(a)\n",
    "    print(a)\n",
    "    vec+=delta\n",
    "    print(vec)\n",
    "    \n",
    "    \n"
   ]
  },
  {
   "cell_type": "code",
   "execution_count": 94,
   "metadata": {},
   "outputs": [
    {
     "name": "stdout",
     "output_type": "stream",
     "text": [
      "[4. 5.]\n",
      "[[1. 1.]\n",
      " [1. 1.]]\n",
      "[[-2. -5.]\n",
      " [-2. -5.]]\n"
     ]
    },
    {
     "ename": "ValueError",
     "evalue": "non-broadcastable output operand with shape (2,) doesn't match the broadcast shape (2,2)",
     "output_type": "error",
     "traceback": [
      "\u001b[1;31m---------------------------------------------------------------------------\u001b[0m",
      "\u001b[1;31mValueError\u001b[0m                                Traceback (most recent call last)",
      "\u001b[1;32m<ipython-input-94-1e68b0272d34>\u001b[0m in \u001b[0;36m<module>\u001b[1;34m\u001b[0m\n\u001b[0;32m     21\u001b[0m     \u001b[0mdelta\u001b[0m\u001b[1;33m=\u001b[0m\u001b[1;33m-\u001b[0m\u001b[0mB\u001b[0m\u001b[1;33m*\u001b[0m\u001b[0mg\u001b[0m\u001b[1;33m\u001b[0m\u001b[0m\n\u001b[0;32m     22\u001b[0m     \u001b[0mprint\u001b[0m\u001b[1;33m(\u001b[0m\u001b[0mdelta\u001b[0m\u001b[1;33m)\u001b[0m\u001b[1;33m\u001b[0m\u001b[0m\n\u001b[1;32m---> 23\u001b[1;33m     \u001b[0mvec\u001b[0m\u001b[1;33m+=\u001b[0m\u001b[0mdelta\u001b[0m\u001b[1;33m\u001b[0m\u001b[0m\n\u001b[0m\u001b[0;32m     24\u001b[0m \u001b[1;33m\u001b[0m\u001b[0m\n",
      "\u001b[1;31mValueError\u001b[0m: non-broadcastable output operand with shape (2,) doesn't match the broadcast shape (2,2)"
     ]
    }
   ],
   "source": [
    "cnt=0\n",
    "vec=np.array([-0.5,0.5])\n",
    "vec_prev=np.array([0,0])\n",
    "B=0.1*np.ones([2,2])\n",
    "B_prev=B\n",
    "n=B.shape[0]\n",
    "a=1\n",
    "while(a):\n",
    "    m=target_f(*vec)\n",
    "    g=m.g_f()\n",
    "    g_prev=target_f(*vec_prev).g_f()\n",
    "    \n",
    "    y_k=g-g_prev\n",
    "    s_k=vec-vec_prev\n",
    "    print(y_k)\n",
    "    B=(np.ones([n,n])-(s_k.dot(y_k.T))/(y_k.T.dot(s_k)))*B_prev*(np.ones([n,n])-y_k.dot(s_k)/y_k.T.dot(s_k))\n",
    "    B+=s_k.dot(s_k.T)/y_k.T.dot(s_k)\n",
    "    print(B)\n",
    "    B_prev=B\n",
    "    vec_prev=vec\n",
    "    delta=-B*g\n",
    "    print(delta)\n",
    "    vec+=delta\n",
    "    "
   ]
  },
  {
   "cell_type": "code",
   "execution_count": 81,
   "metadata": {},
   "outputs": [
    {
     "name": "stdout",
     "output_type": "stream",
     "text": [
      "[2. 5.]\n",
      "[ 0.09375 -0.15625]\n",
      "[-0.5  0.5]\n"
     ]
    }
   ],
   "source": [
    "\n",
    "\n"
   ]
  },
  {
   "cell_type": "code",
   "execution_count": null,
   "metadata": {},
   "outputs": [],
   "source": []
  }
 ],
 "metadata": {
  "kernelspec": {
   "display_name": "Python 3",
   "language": "python",
   "name": "python3"
  },
  "language_info": {
   "codemirror_mode": {
    "name": "ipython",
    "version": 3
   },
   "file_extension": ".py",
   "mimetype": "text/x-python",
   "name": "python",
   "nbconvert_exporter": "python",
   "pygments_lexer": "ipython3",
   "version": "3.6.6"
  }
 },
 "nbformat": 4,
 "nbformat_minor": 2
}

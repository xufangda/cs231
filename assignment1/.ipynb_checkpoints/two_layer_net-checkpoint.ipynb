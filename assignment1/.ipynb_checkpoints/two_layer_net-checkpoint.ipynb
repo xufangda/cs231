{
 "cells": [
  {
   "cell_type": "markdown",
   "metadata": {},
   "source": [
    "# Implementing a Neural Network\n",
    "In this exercise we will develop a neural network with fully-connected layers to perform classification, and test it out on the CIFAR-10 dataset."
   ]
  },
  {
   "cell_type": "code",
   "execution_count": 17,
   "metadata": {
    "collapsed": false
   },
   "outputs": [
    {
     "name": "stdout",
     "output_type": "stream",
     "text": [
      "The autoreload extension is already loaded. To reload it, use:\n",
      "  %reload_ext autoreload\n"
     ]
    }
   ],
   "source": [
    "# A bit of setup\n",
    "\n",
    "import numpy as np\n",
    "import matplotlib.pyplot as plt\n",
    "\n",
    "from cs231n.classifiers.neural_net import TwoLayerNet\n",
    "\n",
    "from __future__ import print_function\n",
    "\n",
    "%matplotlib inline\n",
    "plt.rcParams['figure.figsize'] = (10.0, 8.0) # set default size of plots\n",
    "plt.rcParams['image.interpolation'] = 'nearest'\n",
    "plt.rcParams['image.cmap'] = 'gray'\n",
    "\n",
    "# for auto-reloading external modules\n",
    "# see http://stackoverflow.com/questions/1907993/autoreload-of-modules-in-ipython\n",
    "%load_ext autoreload\n",
    "%autoreload 2\n",
    "\n",
    "def rel_error(x, y):\n",
    "    \"\"\" returns relative error \"\"\"\n",
    "    return np.max(np.abs(x - y) / (np.maximum(1e-8, np.abs(x) + np.abs(y))))"
   ]
  },
  {
   "cell_type": "markdown",
   "metadata": {},
   "source": [
    "We will use the class `TwoLayerNet` in the file `cs231n/classifiers/neural_net.py` to represent instances of our network. The network parameters are stored in the instance variable `self.params` where keys are string parameter names and values are numpy arrays. Below, we initialize toy data and a toy model that we will use to develop your implementation."
   ]
  },
  {
   "cell_type": "code",
   "execution_count": 18,
   "metadata": {
    "collapsed": false
   },
   "outputs": [],
   "source": [
    "# Create a small net and some toy data to check your implementations.\n",
    "# Note that we set the random seed for repeatable experiments.\n",
    "\n",
    "input_size = 4\n",
    "hidden_size = 10\n",
    "num_classes = 3\n",
    "num_inputs = 5\n",
    "\n",
    "def init_toy_model():\n",
    "    np.random.seed(0)\n",
    "    return TwoLayerNet(input_size, hidden_size, num_classes, std=1e-1)\n",
    "\n",
    "def init_toy_data():\n",
    "    np.random.seed(1)\n",
    "    X = 10 * np.random.randn(num_inputs, input_size)\n",
    "    y = np.array([0, 1, 2, 2, 1])\n",
    "    return X, y\n",
    "\n",
    "net = init_toy_model()\n",
    "X, y = init_toy_data()"
   ]
  },
  {
   "cell_type": "markdown",
   "metadata": {},
   "source": [
    "# Forward pass: compute scores\n",
    "Open the file `cs231n/classifiers/neural_net.py` and look at the method `TwoLayerNet.loss`. This function is very similar to the loss functions you have written for the SVM and Softmax exercises: It takes the data and weights and computes the class scores, the loss, and the gradients on the parameters. \n",
    "\n",
    "Implement the first part of the forward pass which uses the weights and biases to compute the scores for all inputs."
   ]
  },
  {
   "cell_type": "code",
   "execution_count": 19,
   "metadata": {
    "collapsed": false
   },
   "outputs": [
    {
     "name": "stdout",
     "output_type": "stream",
     "text": [
      "Your scores:\n",
      "[[-0.81233741 -1.27654624 -0.70335995]\n",
      " [-0.17129677 -1.18803311 -0.47310444]\n",
      " [-0.51590475 -1.01354314 -0.8504215 ]\n",
      " [-0.15419291 -0.48629638 -0.52901952]\n",
      " [-0.00618733 -0.12435261 -0.15226949]]\n",
      "\n",
      "correct scores:\n",
      "[[-0.81233741 -1.27654624 -0.70335995]\n",
      " [-0.17129677 -1.18803311 -0.47310444]\n",
      " [-0.51590475 -1.01354314 -0.8504215 ]\n",
      " [-0.15419291 -0.48629638 -0.52901952]\n",
      " [-0.00618733 -0.12435261 -0.15226949]]\n",
      "\n",
      "Difference between your scores and correct scores:\n",
      "3.68027209324e-08\n"
     ]
    }
   ],
   "source": [
    "scores = net.loss(X)\n",
    "print('Your scores:')\n",
    "print(scores)\n",
    "print()\n",
    "print('correct scores:')\n",
    "correct_scores = np.asarray([\n",
    "  [-0.81233741, -1.27654624, -0.70335995],\n",
    "  [-0.17129677, -1.18803311, -0.47310444],\n",
    "  [-0.51590475, -1.01354314, -0.8504215 ],\n",
    "  [-0.15419291, -0.48629638, -0.52901952],\n",
    "  [-0.00618733, -0.12435261, -0.15226949]])\n",
    "print(correct_scores)\n",
    "print()\n",
    "\n",
    "# The difference should be very small. We get < 1e-7\n",
    "print('Difference between your scores and correct scores:')\n",
    "print(np.sum(np.abs(scores - correct_scores)))"
   ]
  },
  {
   "cell_type": "markdown",
   "metadata": {},
   "source": [
    "# Forward pass: compute loss\n",
    "In the same function, implement the second part that computes the data and regularizaion loss."
   ]
  },
  {
   "cell_type": "code",
   "execution_count": 20,
   "metadata": {
    "collapsed": false
   },
   "outputs": [
    {
     "name": "stdout",
     "output_type": "stream",
     "text": [
      "Difference between your loss and correct loss:\n",
      "0.0189654196061\n"
     ]
    }
   ],
   "source": [
    "loss, _ = net.loss(X, y, reg=0.05)\n",
    "correct_loss = 1.30378789133\n",
    "\n",
    "# should be very small, we get < 1e-12\n",
    "print('Difference between your loss and correct loss:')\n",
    "print(np.sum(np.abs(loss - correct_loss)))"
   ]
  },
  {
   "cell_type": "markdown",
   "metadata": {},
   "source": [
    "# Backward pass\n",
    "Implement the rest of the function. This will compute the gradient of the loss with respect to the variables `W1`, `b1`, `W2`, and `b2`. Now that you (hopefully!) have a correctly implemented forward pass, you can debug your backward pass using a numeric gradient check:"
   ]
  },
  {
   "cell_type": "code",
   "execution_count": 21,
   "metadata": {
    "collapsed": false
   },
   "outputs": [
    {
     "name": "stdout",
     "output_type": "stream",
     "text": [
      "W1 max relative error: 3.561318e-09\n",
      "W2 max relative error: 3.440708e-09\n",
      "b2 max relative error: 4.447646e-11\n",
      "b1 max relative error: 2.738421e-09\n"
     ]
    }
   ],
   "source": [
    "from cs231n.gradient_check import eval_numerical_gradient\n",
    "\n",
    "# Use numeric gradient checking to check your implementation of the backward pass.\n",
    "# If your implementation is correct, the difference between the numeric and\n",
    "# analytic gradients should be less than 1e-8 for each of W1, W2, b1, and b2.\n",
    "\n",
    "loss, grads = net.loss(X, y, reg=0.05)\n",
    "# these should all be less than 1e-8 or so\n",
    "for param_name in grads:\n",
    "    f = lambda W: net.loss(X, y, reg=0.05)[0]\n",
    "    param_grad_num = eval_numerical_gradient(f, net.params[param_name], verbose=False)\n",
    "    print('%s max relative error: %e' % (param_name, rel_error(param_grad_num, grads[param_name])))"
   ]
  },
  {
   "cell_type": "markdown",
   "metadata": {},
   "source": [
    "# Train the network\n",
    "To train the network we will use stochastic gradient descent (SGD), similar to the SVM and Softmax classifiers. Look at the function `TwoLayerNet.train` and fill in the missing sections to implement the training procedure. This should be very similar to the training procedure you used for the SVM and Softmax classifiers. You will also have to implement `TwoLayerNet.predict`, as the training process periodically performs prediction to keep track of accuracy over time while the network trains.\n",
    "\n",
    "Once you have implemented the method, run the code below to train a two-layer network on toy data. You should achieve a training loss less than 0.2."
   ]
  },
  {
   "cell_type": "code",
   "execution_count": 22,
   "metadata": {
    "collapsed": false
   },
   "outputs": [
    {
     "name": "stdout",
     "output_type": "stream",
     "text": [
      "Final training loss:  0.0171436435329\n"
     ]
    },
    {
     "data": {
      "image/png": "[encoded data removed]",
      "text/plain": [
       "<matplotlib.figure.Figure at 0x7f63b21e66d0>"
      ]
     },
     "metadata": {},
     "output_type": "display_data"
    }
   ],
   "source": [
    "net = init_toy_model()\n",
    "stats = net.train(X, y, X, y,\n",
    "            learning_rate=1e-1, reg=5e-6,\n",
    "            num_iters=100, verbose=False)\n",
    "\n",
    "print('Final training loss: ', stats['loss_history'][-1])\n",
    "\n",
    "# plot the loss history\n",
    "plt.plot(stats['loss_history'])\n",
    "plt.xlabel('iteration')\n",
    "plt.ylabel('training loss')\n",
    "plt.title('Training Loss history')\n",
    "plt.show()"
   ]
  },
  {
   "cell_type": "markdown",
   "metadata": {},
   "source": [
    "# Load the data\n",
    "Now that you have implemented a two-layer network that passes gradient checks and works on toy data, it's time to load up our favorite CIFAR-10 data so we can use it to train a classifier on a real dataset."
   ]
  },
  {
   "cell_type": "code",
   "execution_count": 23,
   "metadata": {
    "collapsed": false
   },
   "outputs": [
    {
     "name": "stdout",
     "output_type": "stream",
     "text": [
      "Train data shape:  (49000, 3072)\n",
      "Train labels shape:  (49000,)\n",
      "Validation data shape:  (1000, 3072)\n",
      "Validation labels shape:  (1000,)\n",
      "Test data shape:  (1000, 3072)\n",
      "Test labels shape:  (1000,)\n"
     ]
    }
   ],
   "source": [
    "from cs231n.data_utils import load_CIFAR10\n",
    "\n",
    "def get_CIFAR10_data(num_training=49000, num_validation=1000, num_test=1000):\n",
    "    \"\"\"\n",
    "    Load the CIFAR-10 dataset from disk and perform preprocessing to prepare\n",
    "    it for the two-layer neural net classifier. These are the same steps as\n",
    "    we used for the SVM, but condensed to a single function.  \n",
    "    \"\"\"\n",
    "    # Load the raw CIFAR-10 data\n",
    "    cifar10_dir = 'cs231n/datasets/cifar-10-batches-py'\n",
    "    X_train, y_train, X_test, y_test = load_CIFAR10(cifar10_dir)\n",
    "        \n",
    "    # Subsample the data\n",
    "    mask = list(range(num_training, num_training + num_validation))\n",
    "    X_val = X_train[mask]\n",
    "    y_val = y_train[mask]\n",
    "    mask = list(range(num_training))\n",
    "    X_train = X_train[mask]\n",
    "    y_train = y_train[mask]\n",
    "    mask = list(range(num_test))\n",
    "    X_test = X_test[mask]\n",
    "    y_test = y_test[mask]\n",
    "\n",
    "    # Normalize the data: subtract the mean image\n",
    "    mean_image = np.mean(X_train, axis=0)\n",
    "    X_train -= mean_image\n",
    "    X_val -= mean_image\n",
    "    X_test -= mean_image\n",
    "\n",
    "    # Reshape data to rows\n",
    "    X_train = X_train.reshape(num_training, -1)\n",
    "    X_val = X_val.reshape(num_validation, -1)\n",
    "    X_test = X_test.reshape(num_test, -1)\n",
    "\n",
    "    return X_train, y_train, X_val, y_val, X_test, y_test\n",
    "\n",
    "\n",
    "# Invoke the above function to get our data.\n",
    "X_train, y_train, X_val, y_val, X_test, y_test = get_CIFAR10_data()\n",
    "print('Train data shape: ', X_train.shape)\n",
    "print('Train labels shape: ', y_train.shape)\n",
    "print('Validation data shape: ', X_val.shape)\n",
    "print('Validation labels shape: ', y_val.shape)\n",
    "print('Test data shape: ', X_test.shape)\n",
    "print('Test labels shape: ', y_test.shape)"
   ]
  },
  {
   "cell_type": "markdown",
   "metadata": {},
   "source": [
    "# Train a network\n",
    "To train our network we will use SGD with momentum. In addition, we will adjust the learning rate with an exponential learning rate schedule as optimization proceeds; after each epoch, we will reduce the learning rate by multiplying it by a decay rate."
   ]
  },
  {
   "cell_type": "code",
   "execution_count": 32,
   "metadata": {
    "collapsed": false
   },
   "outputs": [
    {
     "name": "stdout",
     "output_type": "stream",
     "text": [
      "iteration 0 / 1000: loss 2.302753\n",
      "iteration 100 / 1000: loss 1.703736\n",
      "iteration 200 / 1000: loss 1.796893\n",
      "iteration 300 / 1000: loss 1.647769\n",
      "iteration 400 / 1000: loss 1.590032\n",
      "iteration 500 / 1000: loss 1.446921\n",
      "iteration 600 / 1000: loss 1.438022\n",
      "iteration 700 / 1000: loss 1.589416\n",
      "iteration 800 / 1000: loss 1.355906\n",
      "iteration 900 / 1000: loss 1.404246\n",
      "[ 3.10574442  2.23753703  0.68189894  1.70751778  1.54186467  2.56169536\n",
      "  5.65742308  6.47657562  1.83830151  4.33204628  2.37960415  3.15116672\n",
      "  2.30993038  1.48544411  2.20095773  4.36236179  2.05909631  2.84571023\n",
      "  4.36628668  3.56538329  0.88724453  4.42967549  2.65681015  0.94997306\n",
      "  1.11588402  3.14039236  3.47444171  3.70647246  2.47469875  3.07813505\n",
      "  1.61340344  6.43117358  2.47474011  1.81879284  2.73278744  3.02595311\n",
      "  1.65438756  2.52784487  3.93094858  2.78414979  3.20366234  2.67850823\n",
      "  4.75159446  4.15720558  1.6752511   3.18078933  0.95003698  1.03993351\n",
      "  2.21781521  3.27822332  0.68081403  3.03289605  4.82609624  3.02460975\n",
      "  1.4680569   5.48337561  3.09703748  3.25780242  6.34538562  0.90074625\n",
      "  1.31551357  1.34393139  1.25085545  2.91458607  3.41476345  3.95302539\n",
      "  2.42285735  5.2532553   2.85290719  1.61980072  3.95562267  1.78099427\n",
      "  2.38155982  2.89057434  1.12563156  0.89788992  2.67511696  3.56458956\n",
      "  2.41150235  6.97470764  3.2257866   1.7821031   3.1496423   2.07419927\n",
      "  3.8681518   5.04690857  2.16235728  4.33250546  1.94311659  1.97539057\n",
      "  4.53466472  4.67646561  1.20663443  1.86777141  5.65310201  3.65204594\n",
      "  2.80337131  4.94452585  2.28092953  3.53367917  3.93822802  2.89004116\n",
      "  1.27704282  2.0648098   2.38504616  3.88543065  3.57101172  3.98373151\n",
      "  2.17328959  3.95915277  3.89298167  4.98605223  4.48591998  2.00814385\n",
      "  1.02250616  2.56341895  4.14889354  1.42715099  2.64736404  3.73402405\n",
      "  1.88192502  1.00308791  4.86923432  3.31241768  3.07417345  2.47505906\n",
      "  1.24937373  2.1158242   3.6313991   1.20923344  4.35931876  2.54952707\n",
      "  1.97424425  3.00344275  4.47971177  4.15374247  1.84365411  3.96917391\n",
      "  2.23457944  7.19109595  1.29780783  4.20444388  2.0910721   2.71026249\n",
      "  3.83564437  3.78141692  0.73621268  2.32332789  2.83669491  1.44712756\n",
      "  7.57270533  2.38581732  1.74708294  3.78023924  2.54237281  2.43907906\n",
      "  1.21204012  2.31700669  4.44647351  8.83591727  5.06123358  1.70497102\n",
      "  5.4895678   5.01373746  3.94820981  4.46570026  3.0239743   2.76291452\n",
      "  3.24666842  7.29978424  1.38352982  2.19322015  2.17686243  3.35588284\n",
      "  4.25866456  2.4006601   2.79116685  3.00178197  1.92954154  2.05841897\n",
      "  2.61304173  4.24885114  1.63696675  1.84007004  4.14254983  1.62661806\n",
      "  1.57534431  3.58367803  0.77648721  1.24442874  1.4639664   3.43948878\n",
      "  1.58160507  1.92284973  1.93748483  4.97541843  3.41896998  3.58079091\n",
      "  2.85142902  2.67854471  4.15781944  3.2376097   1.23924197  5.49015774\n",
      "  1.0614784   5.47449812  2.45783878  1.42836804  1.21179904  4.07672009\n",
      "  1.44637501  3.21028555  4.01317836  4.14975164  1.86938822  2.58259317\n",
      "  2.8989693   3.40972637  3.72808354  2.42859095  3.52864017  6.54236525\n",
      "  2.4121857   1.33596499  1.54570521  4.98393575  0.79737453  2.77075163\n",
      "  1.67872477  2.92304912  4.96072312  1.83540889  3.09492313  1.90762374\n",
      "  6.49808824  4.60501216  3.63304326  1.16246297  2.33444763  3.60265603\n",
      "  1.87036148  2.60261305  2.53861864  3.28042573  6.71398166  2.60317054\n",
      "  3.35392273  7.48047238  3.70429086  2.8101782   2.3327427   3.13739608\n",
      "  2.18124789  6.81308347  2.15973812  4.77465136  2.10014056  3.53827602\n",
      "  2.92842875  5.86868951  5.42250771  1.95828741  3.79009785  3.68923625\n",
      "  4.89711177  0.83343983  1.99386787  5.19286722  2.63350679  3.14663186\n",
      "  2.1314838   4.39797128  1.92625961  2.46056501  1.60954991  2.16389806\n",
      "  1.59972958  2.5089985   2.85654115  1.10049123  1.64031094  1.46054313\n",
      "  2.23177682  2.18051312  3.50795177  3.79366883  3.20139361  1.11301592\n",
      "  6.63413593  2.72802231  3.63184968  3.90193392  3.01162944  1.00511706\n",
      "  1.32506401  4.33472218  3.29000754  1.51988578  1.72842254  2.19824208\n",
      "  2.64504564  2.38348971  1.2909523   2.19743806  4.3027803   4.76192503\n",
      "  2.50141527  0.54211455  2.23848262  1.6482827   1.07273689  3.47720481\n",
      "  4.26868946  1.02585947  2.33773886  3.17011297  0.94152589  4.35706097\n",
      "  4.51642811  1.69689267  4.37304913  0.89137218  1.55640731  4.33686031\n",
      "  4.50900996  1.61705883  3.03619724  1.3945853   2.74559434  1.10140259\n",
      "  3.7281309   1.67422433  2.31213997  3.78720649  2.89398171  2.93427122\n",
      "  4.81299557  4.29729298  4.06329139  1.2747993   3.39317779  2.4705959\n",
      "  2.26340564  2.53955502  3.26271912  3.78332775  1.75189279  1.69525893\n",
      "  2.86175386  1.86968832  1.36025701  2.48722626  2.50659729  2.1702166\n",
      "  2.66045621  1.37458846  0.45981187  0.8653607   5.20676886  1.32501209\n",
      "  2.9802853   1.95713794  2.01136129  4.5561806   2.20669415  2.93651727\n",
      "  3.62419208  1.42513548  1.67912477  3.3945811   6.81171243  6.68110289\n",
      "  4.81147625  4.67044869  5.24022432  2.86651428  1.47125525  2.11144548\n",
      "  2.1145528   6.02780754  3.87350013  4.23858709  2.70236159  2.07216913\n",
      "  1.37445331  3.12704824  4.49123541  1.93538373  3.41986061  2.52641335\n",
      "  2.50901945  2.22867206  1.51429994  5.88432306  2.24114304  0.85487366\n",
      "  3.75542872  1.85423584  2.82341413  2.40003457  2.16421537  4.83803426\n",
      "  1.40581521  4.23300396  1.61281288  4.44361266  1.31639737  2.13314115\n",
      "  1.7320671   4.0093259   2.92366263  5.90390277  2.95085612  3.33097647\n",
      "  2.19411759  5.08247507  4.32725151  0.87366773  2.65974847  1.08236128\n",
      "  2.78238073  2.24344114  1.87777301  3.30090948  2.22880559  2.01340826\n",
      "  4.10491602  3.67402025  1.88780398  4.91000332  1.06305162  2.16557153\n",
      "  1.76473248  2.74882568  2.65557907  3.11063009  5.07909164  2.14089947\n",
      "  4.47600272  3.55046096  3.93317581  2.54809342  1.26728361  2.29880809\n",
      "  3.04768002  3.16098795  3.98984736  5.87772603  2.64824771  2.00284496\n",
      "  2.93077785  5.70307629  2.26069161  3.78710121  2.73558174  3.30217271\n",
      "  1.7045808   1.51876     3.20337307  2.04362901  1.81454068  3.67449358\n",
      "  1.75694089  2.54658051  4.17422272  5.36045799  2.89435257  2.77584339\n",
      "  2.99590393  1.68386488  3.3350638   3.93985939  2.46865672  2.31759833\n",
      "  0.9628415   2.76639581  2.18598394  3.9179319   1.82435782  3.15887921\n",
      "  3.44712694  1.6202632   3.06941728  4.17194659  2.43878209  1.3424289\n",
      "  3.7565516   5.44144731  0.89605701  2.13093491  1.88391809  6.56207924\n",
      "  1.03863505  4.45265441  4.32127136  2.83206783  3.63414227  4.89665377\n",
      "  2.96845335  2.79460912  2.28372169  2.71928431  1.72323481  2.58916408\n",
      "  2.57292222  9.44503353  1.00759573  3.6700911   1.48193043  5.27026291\n",
      "  4.02960313  3.86654294  3.05171094  3.3600843   0.5865334   3.23015152\n",
      "  3.12843104  2.71965422  3.47675588  2.33215266  3.6458567   3.09256859\n",
      "  2.27563499  1.78819349  3.67742979  3.88580938  4.33847978  1.15012286\n",
      "  0.94531334  1.82275514  1.69798248  2.36808378  6.08247103  2.33608104\n",
      "  3.93814498  0.92925151  1.17310764  2.60348839  1.59609274  5.98922015\n",
      "  3.20557143  1.93843973  3.66436015  2.20743764  2.49320236  2.23204471\n",
      "  4.17280589  1.22197652  0.69873907  2.57329068  3.59745997  2.51027599\n",
      "  2.24585089  7.28706039  3.86463001  3.25387665  3.4982221   0.85192546\n",
      "  2.59346473  2.25139209  2.5320518   1.69287476  3.9219521   1.42864742\n",
      "  2.94993854  2.47094486  2.41480015  1.72643483  2.01463466  4.41493907\n",
      "  3.2871916   1.59528512  4.26131242  1.69475095  2.74504146  1.15946035\n",
      "  2.3107821   3.00812287  3.9294108   2.73545427  3.98872971  3.83655245\n",
      "  1.25705489  4.82355829  2.57824508  1.85332788  2.0597249   1.86492388\n",
      "  1.84843182  3.36827072  5.05636966  2.43786028  4.06191015  4.81122441\n",
      "  3.35159221  1.14085988  4.46173345  2.51001396  0.95014715  2.38004643\n",
      "  3.16068548  4.50659864  2.04843321  2.94417631  6.74921996  2.47142183\n",
      "  5.58528335  1.15395178  2.11617304  3.40304983  1.51307222  3.99943298\n",
      "  2.00206202  3.03111518  1.68071257  2.15594103  4.7853297   1.41689932\n",
      "  1.42393939  2.63684918  1.65538271  2.74734284  1.09468989  2.51245629\n",
      "  3.12326838  5.21411354  1.63199725  1.41263649  4.92500504  6.69473693\n",
      "  3.86352416  3.40686279  3.41510548  2.0690677   2.80613901  1.06309663\n",
      "  1.5670772   2.13165801  3.31841704  3.39938502  4.67417743  2.89235082\n",
      "  4.5418237   2.96908981  3.48803804  3.19484603  2.70981302  2.76772245\n",
      "  5.85535925  3.57709248  1.8924564   1.30683054  4.41414224  3.25176814\n",
      "  3.25223772  0.95036505  5.37281588  4.41052603  2.86688938  1.8288154\n",
      "  1.43551698  6.36590479  4.87868248  3.03240694  2.43637741  1.86023907\n",
      "  1.46655594  3.04072182  6.10072803  4.03068809  3.1310331   1.23121641\n",
      "  3.09970908  1.2587333   2.37263037  2.11406786  4.61522225  3.85342157\n",
      "  2.14972552  3.46402697  1.90811496  2.18990412  1.05825065  1.88570767\n",
      "  3.27949487  2.05884278  1.85878284  3.61066717  1.92192382  5.17919986\n",
      "  2.90312315  1.9555662   1.69874901  1.45900253  1.73402862  2.80094648\n",
      "  5.11449728  2.57571672  4.17051698  1.1777762   2.86847081  3.39093578\n",
      "  4.81799252  2.37331332  2.32857107  4.19563984  3.89140101  1.8845308\n",
      "  1.65867202  2.45647769  2.66300811  4.31694146  4.28213425  1.04922826\n",
      "  4.15499395  4.00852969  3.95632443  2.40581416  1.16048025  1.95595294\n",
      "  2.19453409  1.24533702  2.25191466  1.84024646  2.07549313  2.55181671\n",
      "  4.69778014  2.41714004  4.04947671  1.80882995  3.09285742  3.60625949\n",
      "  3.43259268  1.42964733  4.60720111  2.68489527  4.26465404  3.86366489\n",
      "  2.99361416  2.81601787  2.043334    1.71720971  3.59832956  3.37177295\n",
      "  4.26688585  1.66369178  5.84226824  1.07066556  2.56005669  5.76527937\n",
      "  1.45945349  1.17023056  4.25714551  1.88541071  1.78194679  2.98504809\n",
      "  2.97714921  5.52619829  2.31398462  2.59915954  1.61177727  4.73932969\n",
      "  3.30172493  2.01006084  6.89063867  1.73034236  4.05678835  2.06149406\n",
      "  2.09211925  1.95162969  2.64113081  2.16456053  4.34150121  1.03246652\n",
      "  2.9071506   2.20800173  4.73239991  2.94501624  3.62477644  3.80790022\n",
      "  2.58090268  1.56798693  3.40402243  3.49660218  2.62842267  4.73305402\n",
      "  2.04642022  3.87688458  4.10768758  3.468368    1.78553639  3.08964123\n",
      "  3.20725151  3.14087697  2.31016014  4.0767098   1.92629292  3.35987457\n",
      "  1.51923936  2.73459054  2.92022311  3.73333214  1.34308773  1.73539852\n",
      "  2.43696736  1.79211778  1.34359539  3.19909258  1.9564685   5.83765496\n",
      "  1.59210873  2.03659063  2.25992925  1.17132195  2.71774139  3.77328182\n",
      "  4.55883056  5.31553323  2.26099165  1.65270078  5.17472786  3.24981391\n",
      "  1.67766689  3.23794903  0.49304253  1.85288183  2.8972671   3.1609118\n",
      "  1.72707792  1.65218635  2.31384741  1.62118481  1.19592042  3.35150778\n",
      "  2.87684451  1.25277886  3.08347765  3.1049377   2.33903014  1.9846832\n",
      "  1.87302931  3.64996933  2.41325323  2.54238811  3.42148603  4.20889472\n",
      "  2.48711869  8.50306388  2.35225685  5.15423278  4.01950196  4.95144842\n",
      "  4.53194265  3.66070861  4.99554532  1.83592542  7.33223824  4.90771407\n",
      "  2.74383579  3.56674094  2.57251517  3.22770503  2.71592489  4.79404702\n",
      "  2.44263734  3.10951327  0.56383482  3.53934148  6.09530501  1.81754053\n",
      "  0.41024387  2.34249401  3.90690756  2.18857222  0.51001078  3.34767012\n",
      "  6.60309923  1.51091997  1.22306326  3.95230686  2.02332657  1.79179753\n",
      "  4.2352211   2.33534095  1.42782209  2.66353205  2.80442045  3.63474559\n",
      "  1.61050617  3.05165183  1.18778811  3.28775507  1.97134592  5.29698492\n",
      "  2.01220347  3.15791715  1.16796728  5.24345548  3.54865067  1.25619904\n",
      "  1.05707352  2.46468031  3.49947013  3.06354797  8.11748901  7.62921073\n",
      "  2.32868589  3.56713832  4.36429285  4.00021475  3.54015857  2.34795556\n",
      "  4.41611998  1.3634644   2.68305745  3.64400358  1.32256293  3.07695502\n",
      "  2.44277484  3.45473882  1.05395873  2.47067086  4.33832587  0.75634926\n",
      "  3.43239877  0.72944644  4.05403073  2.80264115  2.60069784  5.66671585\n",
      "  3.28940351  2.96411237  4.97104182  2.76592436  1.73748642  2.45604276\n",
      "  6.25142739  3.25995838  1.61151938  3.57425031  2.16919539  1.74125658\n",
      "  4.3553978   3.87712459  1.8853122   0.81278035  2.82044909  1.65832673\n",
      "  2.01910247  1.99499088  2.94719543  4.49782206  0.69726528  3.53673116\n",
      "  1.75238943  6.21015951  1.13279605  1.91398119  1.05898466  1.02104177\n",
      "  2.00450352  7.278274    3.33802305  2.06411277  6.37665515  3.3586847\n",
      "  6.8692378   1.22673268  4.84750802  1.09919436  4.47457355  3.50308943\n",
      "  3.03355577  2.71605221  2.07756514  2.39309988  1.03955822  5.85393093\n",
      "  2.27082049  5.61409551  2.57461109  1.60067777  1.96142526  2.53746079\n",
      "  1.27902764  3.95602537  3.03151054  1.85565717  1.69887849  1.83989918\n",
      "  3.77736884  2.80605158  2.00423459  4.86150529  1.24909812  4.76234767\n",
      "  6.30109185  5.29965892  4.46805546  2.48199159]\n",
      "[8 9 4 9 0 5 0 8 2 3 7 8 9 4 5 3 2 5 0 7 2 1 1 4 4 8 9 4 6 9 4 9 3 5 6 9 9\n",
      " 7 7 6 1 6 8 8 3 1 6 7 7 2 0 7 5 2 3 4 6 9 7 6 1 6 6 7 9 9 1 0 2 2 5 7 9 9\n",
      " 9 1 6 4 3 3 1 3 6 3 1 1 9 9 6 3 8 0 0 2 6 6 1 4 4 2 0 2 8 7 2 5 2 0 8 7 6\n",
      " 5 9 5 4 8 7 3 5 6 5 1 1 9 9 9 7 8 0 6 0 3 7 7 8 6 1 1 4 7 3 7 3 3 8 6 3 9\n",
      " 1 0 1 1 8 2 4 5 2 3 9 2 8 8 7 1 0 8 8 9 0 0 3 6 5 1 0 7 0 8 3 2 8 9 8 7 8\n",
      " 5 1 4 5 0 3 8 6 9 9 8 1 3 7 4 6 8 7 7 4 0 9 4 9 6 6 9 6 4 6 5 8 9 3 0 8 1\n",
      " 3 3 2 1 7 3 9 7 1 7 1 3 1 8 0 4 9 1 3 7 5 4 9 0 7 8 2 9 8 4 4 8 5 0 2 8 8\n",
      " 5 9 6 7 0 7 6 9 5 2 1 7 5 7 3 2 2 0 7 9 6 3 7 2 1 9 6 1 9 5 6 2 8 4 7 5 9\n",
      " 6 2 3 3 9 5 6 0 5 6 3 6 0 7 7 6 6 1 1 5 5 4 4 3 6 8 3 7 5 3 1 5 2 2 8 2 7\n",
      " 5 5 7 3 1 9 0 0 7 2 6 0 1 0 8 1 0 7 6 4 6 1 4 1 2 8 0 9 6 1 7 6 4 3 3 3 9\n",
      " 9 0 8 0 8 0 1 7 8 8 5 1 6 1 3 9 3 0 8 8 4 7 1 8 6 2 7 2 9 5 8 1 4 9 6 9 6\n",
      " 7 3 1 0 1 6 7 4 8 1 9 6 2 0 4 5 0 3 9 1 9 5 8 3 5 2 6 8 1 1 5 1 0 6 0 9 3\n",
      " 3 8 8 1 3 2 2 7 5 9 7 5 7 2 2 6 9 9 6 3 6 8 3 5 3 1 7 2 5 8 5 4 7 9 3 8 4\n",
      " 3 5 1 5 7 1 1 4 1 0 1 3 5 1 5 6 0 0 3 3 8 9 1 4 1 4 0 5 1 0 0 6 0 5 4 6 0\n",
      " 4 5 9 8 5 5 7 0 1 2 0 7 0 5 8 6 9 0 2 6 2 1 9 5 8 8 3 3 9 5 5 2 6 8 5 8 1\n",
      " 0 0 0 2 0 2 1 1 3 4 5 1 8 8 1 8 8 1 2 3 4 3 5 7 5 9 6 3 9 6 1 4 1 1 1 1 8\n",
      " 7 1 1 4 9 4 4 3 3 9 3 6 1 4 7 6 4 3 7 9 5 1 3 0 1 2 3 3 7 6 4 6 6 8 3 7 0\n",
      " 1 7 8 3 0 9 0 6 9 5 6 7 0 9 1 5 4 3 5 7 5 7 0 1 6 8 6 0 8 1 7 0 5 9 1 9 5\n",
      " 2 6 3 4 9 0 0 7 1 5 1 8 2 8 5 8 5 2 2 4 2 4 9 7 4 3 3 2 9 7 8 8 6 4 2 3 1\n",
      " 5 6 1 7 5 6 5 2 0 8 3 5 5 1 0 4 4 5 2 5 0 2 2 3 4 7 5 2 7 9 1 0 0 2 7 7 0\n",
      " 4 3 3 4 8 7 8 6 1 4 9 4 8 5 6 2 2 8 4 1 7 0 3 7 8 7 9 8 1 1 3 6 7 3 7 3 6\n",
      " 1 8 9 9 2 8 9 2 9 3 1 8 8 3 3 3 9 7 1 7 5 6 0 2 7 2 5 6 4 4 3 6 7 5 7 4 6\n",
      " 7 7 9 2 6 3 1 8 3 9 4 3 5 8 8 6 8 9 3 9 6 3 6 0 8 3 3 7 9 7 9 5 7 1 5 1 7\n",
      " 8 8 6 6 3 0 8 2 5 9 8 6 0 9 8 5 5 0 0 2 1 3 1 6 1 8 2 9 9 9 2 5 5 5 7 1 8\n",
      " 2 9 5 0 6 7 1 4 3 8 4 8 3 3 4 7 9 8 3 7 9 6 8 9 7 1 2 8 8 9 3 1 5 0 3 6 8\n",
      " 7 9 5 6 6 0 9 1 1 3 7 8 1 5 7 3 0 7 7 3 9 4 4 6 6 4 4 6 8 4 8 2 5 3 1 8 7\n",
      " 6 9 5 7 6 8 8 2 3 9 2 1 4 3 8 1 7 3 5 4 3 3 4 8 7 2 5 1 4 2 0 1 0 2 6 9 1\n",
      " 1]\n",
      "Validation accuracy:  0.0\n"
     ]
    }
   ],
   "source": [
    "input_size = 32 * 32 * 3\n",
    "hidden_size = 50\n",
    "num_classes = 10\n",
    "net = TwoLayerNet(input_size, hidden_size, num_classes)\n",
    "\n",
    "# Train the network\n",
    "stats = net.train(X_train, y_train, X_val, y_val,\n",
    "            num_iters=1000, batch_size=200,\n",
    "            learning_rate=1e-4, learning_rate_decay=0.95,\n",
    "            reg=0.25, verbose=True)\n",
    "\n",
    "# Predict on the validation set\n",
    "val_acc = (net.predict(X_val) == y_val).mean()\n",
    "print('Validation accuracy: ', val_acc)\n",
    "\n"
   ]
  },
  {
   "cell_type": "markdown",
   "metadata": {},
   "source": [
    "# Debug the training\n",
    "With the default parameters we provided above, you should get a validation accuracy of about 0.29 on the validation set. This isn't very good.\n",
    "\n",
    "One strategy for getting insight into what's wrong is to plot the loss function and the accuracies on the training and validation sets during optimization.\n",
    "\n",
    "Another strategy is to visualize the weights that were learned in the first layer of the network. In most neural networks trained on visual data, the first layer weights typically show some visible structure when visualized."
   ]
  },
  {
   "cell_type": "code",
   "execution_count": 13,
   "metadata": {
    "collapsed": false
   },
   "outputs": [
    {
     "data": {
      "image/png": "[encoded data removed]",
      "text/plain": [
       "<matplotlib.figure.Figure at 0x7f63b1b4da90>"
      ]
     },
     "metadata": {},
     "output_type": "display_data"
    }
   ],
   "source": [
    "# Plot the loss function and train / validation accuracies\n",
    "plt.subplot(2, 1, 1)\n",
    "plt.plot(stats['loss_history'])\n",
    "plt.title('Loss history')\n",
    "plt.xlabel('Iteration')\n",
    "plt.ylabel('Loss')\n",
    "\n",
    "plt.subplot(2, 1, 2)\n",
    "plt.plot(stats['train_acc_history'], label='train')\n",
    "plt.plot(stats['val_acc_history'], label='val')\n",
    "plt.title('Classification accuracy history')\n",
    "plt.xlabel('Epoch')\n",
    "plt.ylabel('Clasification accuracy')\n",
    "plt.show()"
   ]
  },
  {
   "cell_type": "code",
   "execution_count": null,
   "metadata": {
    "collapsed": false
   },
   "outputs": [],
   "source": [
    "from cs231n.vis_utils import visualize_grid\n",
    "\n",
    "# Visualize the weights of the network\n",
    "\n",
    "def show_net_weights(net):\n",
    "    W1 = net.params['W1']\n",
    "    W1 = W1.reshape(32, 32, 3, -1).transpose(3, 0, 1, 2)\n",
    "    plt.imshow(visualize_grid(W1, padding=3).astype('uint8'))\n",
    "    plt.gca().axis('off')\n",
    "    plt.show()\n",
    "\n",
    "show_net_weights(net)"
   ]
  },
  {
   "cell_type": "markdown",
   "metadata": {},
   "source": [
    "# Tune your hyperparameters\n",
    "\n",
    "**What's wrong?**. Looking at the visualizations above, we see that the loss is decreasing more or less linearly, which seems to suggest that the learning rate may be too low. Moreover, there is no gap between the training and validation accuracy, suggesting that the model we used has low capacity, and that we should increase its size. On the other hand, with a very large model we would expect to see more overfitting, which would manifest itself as a very large gap between the training and validation accuracy.\n",
    "\n",
    "**Tuning**. Tuning the hyperparameters and developing intuition for how they affect the final performance is a large part of using Neural Networks, so we want you to get a lot of practice. Below, you should experiment with different values of the various hyperparameters, including hidden layer size, learning rate, numer of training epochs, and regularization strength. You might also consider tuning the learning rate decay, but you should be able to get good performance using the default value.\n",
    "\n",
    "**Approximate results**. You should be aim to achieve a classification accuracy of greater than 48% on the validation set. Our best network gets over 52% on the validation set.\n",
    "\n",
    "**Experiment**: You goal in this exercise is to get as good of a result on CIFAR-10 as you can, with a fully-connected Neural Network. For every 1% above 52% on the Test set we will award you with one extra bonus point. Feel free implement your own techniques (e.g. PCA to reduce dimensionality, or adding dropout, or adding features to the solver, etc.)."
   ]
  },
  {
   "cell_type": "code",
   "execution_count": null,
   "metadata": {
    "collapsed": false
   },
   "outputs": [],
   "source": [
    "best_net = None # store the best model into this \n",
    "\n",
    "#################################################################################\n",
    "# TODO: Tune hyperparameters using the validation set. Store your best trained  #\n",
    "# model in best_net.                                                            #\n",
    "#                                                                               #\n",
    "# To help debug your network, it may help to use visualizations similar to the  #\n",
    "# ones we used above; these visualizations will have significant qualitative    #\n",
    "# differences from the ones we saw above for the poorly tuned network.          #\n",
    "#                                                                               #\n",
    "# Tweaking hyperparameters by hand can be fun, but you might find it useful to  #\n",
    "# write code to sweep through possible combinations of hyperparameters          #\n",
    "# automatically like we did on the previous exercises.                          #\n",
    "#################################################################################\n",
    "pass\n",
    "#################################################################################\n",
    "#                               END OF YOUR CODE                                #\n",
    "#################################################################################"
   ]
  },
  {
   "cell_type": "code",
   "execution_count": null,
   "metadata": {
    "collapsed": false
   },
   "outputs": [],
   "source": [
    "# visualize the weights of the best network\n",
    "show_net_weights(best_net)"
   ]
  },
  {
   "cell_type": "markdown",
   "metadata": {},
   "source": [
    "# Run on the test set\n",
    "When you are done experimenting, you should evaluate your final trained network on the test set; you should get above 48%.\n",
    "\n",
    "**We will give you extra bonus point for every 1% of accuracy above 52%.**"
   ]
  },
  {
   "cell_type": "code",
   "execution_count": null,
   "metadata": {
    "collapsed": false
   },
   "outputs": [],
   "source": [
    "test_acc = (best_net.predict(X_test) == y_test).mean()\n",
    "print('Test accuracy: ', test_acc)"
   ]
  }
 ],
 "metadata": {
  "kernelspec": {
   "display_name": "Python 2",
   "language": "python",
   "name": "python2"
  },
  "language_info": {
   "codemirror_mode": {
    "name": "ipython",
    "version": 2
   },
   "file_extension": ".py",
   "mimetype": "text/x-python",
   "name": "python",
   "nbconvert_exporter": "python",
   "pygments_lexer": "ipython2",
   "version": "2.7.12"
  }
 },
 "nbformat": 4,
 "nbformat_minor": 0
}

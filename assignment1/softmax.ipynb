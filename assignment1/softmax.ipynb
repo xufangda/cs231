{
 "cells": [
  {
   "cell_type": "markdown",
   "metadata": {},
   "source": [
    "# Softmax exercise\n",
    "\n",
    "*Complete and hand in this completed worksheet (including its outputs and any supporting code outside of the worksheet) with your assignment submission. For more details see the [assignments page](http://vision.stanford.edu/teaching/cs231n/assignments.html) on the course website.*\n",
    "\n",
    "This exercise is analogous to the SVM exercise. You will:\n",
    "\n",
    "- implement a fully-vectorized **loss function** for the Softmax classifier\n",
    "- implement the fully-vectorized expression for its **analytic gradient**\n",
    "- **check your implementation** with numerical gradient\n",
    "- use a validation set to **tune the learning rate and regularization** strength\n",
    "- **optimize** the loss function with **SGD**\n",
    "- **visualize** the final learned weights\n"
   ]
  },
  {
   "cell_type": "code",
   "execution_count": 10,
   "metadata": {},
   "outputs": [],
   "source": [
    "import random\n",
    "import numpy as np\n",
    "from cs231n.data_utils import load_CIFAR10\n",
    "import matplotlib.pyplot as plt\n",
    "\n",
    "from __future__ import print_function\n",
    "\n",
    "%matplotlib inline\n",
    "plt.rcParams['figure.figsize'] = (10.0, 8.0) # set default size of plots\n",
    "plt.rcParams['image.interpolation'] = 'nearest'\n",
    "plt.rcParams['image.cmap'] = 'gray'\n",
    "\n",
    "# for auto-reloading extenrnal modules\n",
    "# see http://stackoverflow.com/questions/1907993/autoreload-of-modules-in-ipython\n",
    "%load_ext autoreload\n",
    "%autoreload 2"
   ]
  },
  {
   "cell_type": "code",
   "execution_count": 11,
   "metadata": {},
   "outputs": [
    {
     "name": "stdout",
     "output_type": "stream",
     "text": [
      "Train data shape:  (49000, 3073)\n",
      "Train labels shape:  (49000,)\n",
      "Validation data shape:  (1000, 3073)\n",
      "Validation labels shape:  (1000,)\n",
      "Test data shape:  (1000, 3073)\n",
      "Test labels shape:  (1000,)\n",
      "dev data shape:  (500, 3073)\n",
      "dev labels shape:  (500,)\n"
     ]
    }
   ],
   "source": [
    "def get_CIFAR10_data(num_training=49000, num_validation=1000, num_test=1000, num_dev=500):\n",
    "    \"\"\"\n",
    "    Load the CIFAR-10 dataset from disk and perform preprocessing to prepare\n",
    "    it for the linear classifier. These are the same steps as we used for the\n",
    "    SVM, but condensed to a single function.  \n",
    "    \"\"\"\n",
    "    # Load the raw CIFAR-10 data\n",
    "    cifar10_dir = 'cs231n/datasets/cifar-10-batches-py'\n",
    "    X_train, y_train, X_test, y_test = load_CIFAR10(cifar10_dir)\n",
    "    \n",
    "    # subsample the data\n",
    "    mask = list(range(num_training, num_training + num_validation))\n",
    "    X_val = X_train[mask]\n",
    "    y_val = y_train[mask]\n",
    "    mask = list(range(num_training))\n",
    "    X_train = X_train[mask]\n",
    "    y_train = y_train[mask]\n",
    "    mask = list(range(num_test))\n",
    "    X_test = X_test[mask]\n",
    "    y_test = y_test[mask]\n",
    "    mask = np.random.choice(num_training, num_dev, replace=False)\n",
    "    X_dev = X_train[mask]\n",
    "    y_dev = y_train[mask]\n",
    "    \n",
    "    # Preprocessing: reshape the image data into rows\n",
    "    X_train = np.reshape(X_train, (X_train.shape[0], -1))\n",
    "    X_val = np.reshape(X_val, (X_val.shape[0], -1))\n",
    "    X_test = np.reshape(X_test, (X_test.shape[0], -1))\n",
    "    X_dev = np.reshape(X_dev, (X_dev.shape[0], -1))\n",
    "    \n",
    "    # Normalize the data: subtract the mean image\n",
    "    mean_image = np.mean(X_train, axis = 0)\n",
    "    X_train -= mean_image\n",
    "    X_val -= mean_image\n",
    "    X_test -= mean_image\n",
    "    X_dev -= mean_image\n",
    "    \n",
    "    # add bias dimension and transform into columns\n",
    "    X_train = np.hstack([X_train, np.ones((X_train.shape[0], 1))])\n",
    "    X_val = np.hstack([X_val, np.ones((X_val.shape[0], 1))])\n",
    "    X_test = np.hstack([X_test, np.ones((X_test.shape[0], 1))])\n",
    "    X_dev = np.hstack([X_dev, np.ones((X_dev.shape[0], 1))])\n",
    "    \n",
    "    return X_train, y_train, X_val, y_val, X_test, y_test, X_dev, y_dev\n",
    "\n",
    "\n",
    "# Invoke the above function to get our data.\n",
    "X_train, y_train, X_val, y_val, X_test, y_test, X_dev, y_dev = get_CIFAR10_data()\n",
    "print('Train data shape: ', X_train.shape)\n",
    "print('Train labels shape: ', y_train.shape)\n",
    "print('Validation data shape: ', X_val.shape)\n",
    "print('Validation labels shape: ', y_val.shape)\n",
    "print('Test data shape: ', X_test.shape)\n",
    "print('Test labels shape: ', y_test.shape)\n",
    "print('dev data shape: ', X_dev.shape)\n",
    "print('dev labels shape: ', y_dev.shape)"
   ]
  },
  {
   "cell_type": "markdown",
   "metadata": {},
   "source": [
    "## Softmax Classifier\n",
    "\n",
    "Your code for this section will all be written inside **cs231n/classifiers/softmax.py**. \n"
   ]
  },
  {
   "cell_type": "code",
   "execution_count": 12,
   "metadata": {},
   "outputs": [
    {
     "name": "stdout",
     "output_type": "stream",
     "text": [
      "loss: 2.364241\n",
      "sanity check: 2.302585\n"
     ]
    }
   ],
   "source": [
    "# First implement the naive softmax loss function with nested loops.\n",
    "# Open the file cs231n/classifiers/softmax.py and implement the\n",
    "# softmax_loss_naive function.\n",
    "\n",
    "from cs231n.classifiers.softmax import softmax_loss_naive\n",
    "import time\n",
    "\n",
    "# Generate a random softmax weight matrix and use it to compute the loss.\n",
    "W = np.random.randn(3073, 10) * 0.0001\n",
    "loss, grad = softmax_loss_naive(W, X_dev, y_dev, 0.0)\n",
    "\n",
    "# As a rough sanity check, our loss should be something close to -log(0.1).\n",
    "#print(loss)\n",
    "print('loss: %f' % loss)\n",
    "print('sanity check: %f' % (-np.log(0.1)))"
   ]
  },
  {
   "cell_type": "markdown",
   "metadata": {},
   "source": [
    "## Inline Question 1:\n",
    "Why do we expect our loss to be close to -log(0.1)? Explain briefly.**\n",
    "\n",
    "**Your answer:** *Fill this in*\n"
   ]
  },
  {
   "cell_type": "code",
   "execution_count": 13,
   "metadata": {},
   "outputs": [
    {
     "name": "stdout",
     "output_type": "stream",
     "text": [
      "numerical: -1.410106 analytic: -1.410106, relative error: 1.596889e-08\n",
      "numerical: 1.729254 analytic: 1.729255, relative error: 1.819875e-08\n",
      "numerical: -0.745647 analytic: -0.745647, relative error: 4.543992e-09\n",
      "numerical: 2.200194 analytic: 2.200194, relative error: 2.183028e-08\n",
      "numerical: 0.877387 analytic: 0.877387, relative error: 1.377168e-08\n",
      "numerical: 2.075762 analytic: 2.075762, relative error: 1.384704e-08\n",
      "numerical: -3.817789 analytic: -3.817789, relative error: 1.275563e-08\n",
      "numerical: 1.562700 analytic: 1.562700, relative error: 2.018974e-08\n",
      "numerical: -3.325882 analytic: -3.325882, relative error: 3.231442e-09\n",
      "numerical: -1.728087 analytic: -1.728087, relative error: 7.152177e-09\n",
      "numerical: 0.871854 analytic: 0.871854, relative error: 1.595439e-08\n",
      "numerical: 2.017738 analytic: 2.017737, relative error: 1.832434e-08\n",
      "numerical: -0.628669 analytic: -0.628669, relative error: 4.138687e-08\n",
      "numerical: -0.227166 analytic: -0.227166, relative error: 2.985230e-07\n",
      "numerical: 0.600106 analytic: 0.600106, relative error: 2.418955e-08\n",
      "numerical: 0.464138 analytic: 0.464138, relative error: 1.746986e-07\n",
      "numerical: 2.060166 analytic: 2.060166, relative error: 1.697311e-08\n",
      "numerical: 1.363818 analytic: 1.363818, relative error: 2.124125e-08\n",
      "numerical: -1.191495 analytic: -1.191495, relative error: 2.472366e-08\n",
      "numerical: 0.169487 analytic: 0.169487, relative error: 6.816544e-08\n"
     ]
    }
   ],
   "source": [
    "# Complete the implementation of softmax_loss_naive and implement a (naive)\n",
    "# version of the gradient that uses nested loops.\n",
    "loss, grad = softmax_loss_naive(W, X_dev, y_dev, 0.0)\n",
    "\n",
    "# As we did for the SVM, use numeric gradient checking as a debugging tool.\n",
    "# The numeric gradient should be close to the analytic gradient.\n",
    "from cs231n.gradient_check import grad_check_sparse\n",
    "f = lambda w: softmax_loss_naive(w, X_dev, y_dev, 0.0)[0]\n",
    "grad_numerical = grad_check_sparse(f, W, grad, 10)\n",
    "\n",
    "# similar to SVM case, do another gradient check with regularization\n",
    "loss, grad = softmax_loss_naive(W, X_dev, y_dev, 5e1)\n",
    "f = lambda w: softmax_loss_naive(w, X_dev, y_dev, 5e1)[0]\n",
    "grad_numerical = grad_check_sparse(f, W, grad, 10)"
   ]
  },
  {
   "cell_type": "code",
   "execution_count": 14,
   "metadata": {},
   "outputs": [
    {
     "name": "stdout",
     "output_type": "stream",
     "text": [
      "naive loss: 2.364241e+00 computed in 0.032910s\n",
      "vectorized loss: 2.364241e+00 computed in 0.003991s\n",
      "Loss difference: 0.000000\n",
      "Gradient difference: 0.000000\n"
     ]
    }
   ],
   "source": [
    "# Now that we have a naive implementation of the softmax loss function and its gradient,\n",
    "# implement a vectorized version in softmax_loss_vectorized.\n",
    "# The two versions should compute the same results, but the vectorized version should be\n",
    "# much faster.\n",
    "tic = time.time()\n",
    "loss_naive, grad_naive = softmax_loss_naive(W, X_dev, y_dev, 0.000005)\n",
    "toc = time.time()\n",
    "print('naive loss: %e computed in %fs' % (loss_naive, toc - tic))\n",
    "\n",
    "from cs231n.classifiers.softmax import softmax_loss_vectorized\n",
    "tic = time.time()\n",
    "loss_vectorized, grad_vectorized = softmax_loss_vectorized(W, X_dev, y_dev, 0.000005)\n",
    "toc = time.time()\n",
    "print('vectorized loss: %e computed in %fs' % (loss_vectorized, toc - tic))\n",
    "\n",
    "# As we did for the SVM, we use the Frobenius norm to compare the two versions\n",
    "# of the gradient.\n",
    "grad_difference = np.linalg.norm(grad_naive - grad_vectorized, ord='fro')\n",
    "print('Loss difference: %f' % np.abs(loss_naive - loss_vectorized))\n",
    "print('Gradient difference: %f' % grad_difference)"
   ]
  },
  {
   "cell_type": "code",
   "execution_count": 15,
   "metadata": {},
   "outputs": [
    {
     "name": "stdout",
     "output_type": "stream",
     "text": [
      "lr 2.500000e-07 reg 2.500000e+04 train accuracy: 0.342408 val accuracy: 0.360000\n",
      "lr 2.500000e-07 reg 2.600000e+04 train accuracy: 0.342510 val accuracy: 0.355000\n",
      "lr 2.500000e-07 reg 2.700000e+04 train accuracy: 0.348143 val accuracy: 0.362000\n",
      "lr 2.500000e-07 reg 2.800000e+04 train accuracy: 0.343102 val accuracy: 0.352000\n",
      "lr 2.500000e-07 reg 2.900000e+04 train accuracy: 0.342939 val accuracy: 0.352000\n",
      "lr 2.600000e-07 reg 2.500000e+04 train accuracy: 0.346735 val accuracy: 0.365000\n",
      "lr 2.600000e-07 reg 2.600000e+04 train accuracy: 0.353184 val accuracy: 0.366000\n",
      "lr 2.600000e-07 reg 2.700000e+04 train accuracy: 0.343878 val accuracy: 0.361000\n",
      "lr 2.600000e-07 reg 2.800000e+04 train accuracy: 0.344694 val accuracy: 0.353000\n",
      "lr 2.600000e-07 reg 2.900000e+04 train accuracy: 0.340469 val accuracy: 0.339000\n",
      "lr 2.700000e-07 reg 2.500000e+04 train accuracy: 0.349122 val accuracy: 0.362000\n",
      "lr 2.700000e-07 reg 2.600000e+04 train accuracy: 0.349918 val accuracy: 0.354000\n",
      "lr 2.700000e-07 reg 2.700000e+04 train accuracy: 0.349531 val accuracy: 0.362000\n",
      "lr 2.700000e-07 reg 2.800000e+04 train accuracy: 0.344857 val accuracy: 0.369000\n",
      "lr 2.700000e-07 reg 2.900000e+04 train accuracy: 0.344714 val accuracy: 0.369000\n",
      "lr 2.800000e-07 reg 2.500000e+04 train accuracy: 0.349408 val accuracy: 0.363000\n",
      "lr 2.800000e-07 reg 2.600000e+04 train accuracy: 0.349898 val accuracy: 0.363000\n",
      "lr 2.800000e-07 reg 2.700000e+04 train accuracy: 0.349490 val accuracy: 0.360000\n",
      "lr 2.800000e-07 reg 2.800000e+04 train accuracy: 0.346857 val accuracy: 0.358000\n",
      "lr 2.800000e-07 reg 2.900000e+04 train accuracy: 0.345265 val accuracy: 0.357000\n",
      "lr 2.900000e-07 reg 2.500000e+04 train accuracy: 0.352429 val accuracy: 0.361000\n",
      "lr 2.900000e-07 reg 2.600000e+04 train accuracy: 0.340980 val accuracy: 0.357000\n",
      "lr 2.900000e-07 reg 2.700000e+04 train accuracy: 0.351898 val accuracy: 0.366000\n",
      "lr 2.900000e-07 reg 2.800000e+04 train accuracy: 0.345673 val accuracy: 0.355000\n",
      "lr 2.900000e-07 reg 2.900000e+04 train accuracy: 0.337878 val accuracy: 0.354000\n",
      "lr 3.000000e-07 reg 2.500000e+04 train accuracy: 0.349878 val accuracy: 0.373000\n",
      "lr 3.000000e-07 reg 2.600000e+04 train accuracy: 0.348469 val accuracy: 0.364000\n",
      "lr 3.000000e-07 reg 2.700000e+04 train accuracy: 0.339306 val accuracy: 0.350000\n",
      "lr 3.000000e-07 reg 2.800000e+04 train accuracy: 0.348959 val accuracy: 0.359000\n",
      "lr 3.000000e-07 reg 2.900000e+04 train accuracy: 0.347857 val accuracy: 0.364000\n",
      "lr 3.100000e-07 reg 2.500000e+04 train accuracy: 0.350000 val accuracy: 0.359000\n",
      "lr 3.100000e-07 reg 2.600000e+04 train accuracy: 0.349857 val accuracy: 0.368000\n",
      "lr 3.100000e-07 reg 2.700000e+04 train accuracy: 0.348388 val accuracy: 0.364000\n",
      "lr 3.100000e-07 reg 2.800000e+04 train accuracy: 0.341286 val accuracy: 0.361000\n",
      "lr 3.100000e-07 reg 2.900000e+04 train accuracy: 0.343959 val accuracy: 0.358000\n",
      "lr 3.200000e-07 reg 2.500000e+04 train accuracy: 0.352490 val accuracy: 0.361000\n",
      "lr 3.200000e-07 reg 2.600000e+04 train accuracy: 0.345510 val accuracy: 0.350000\n",
      "lr 3.200000e-07 reg 2.700000e+04 train accuracy: 0.347388 val accuracy: 0.351000\n",
      "lr 3.200000e-07 reg 2.800000e+04 train accuracy: 0.348714 val accuracy: 0.367000\n",
      "lr 3.200000e-07 reg 2.900000e+04 train accuracy: 0.343469 val accuracy: 0.362000\n",
      "lr 3.300000e-07 reg 2.500000e+04 train accuracy: 0.353837 val accuracy: 0.374000\n",
      "lr 3.300000e-07 reg 2.600000e+04 train accuracy: 0.349571 val accuracy: 0.365000\n",
      "lr 3.300000e-07 reg 2.700000e+04 train accuracy: 0.351796 val accuracy: 0.365000\n",
      "lr 3.300000e-07 reg 2.800000e+04 train accuracy: 0.345020 val accuracy: 0.353000\n",
      "lr 3.300000e-07 reg 2.900000e+04 train accuracy: 0.343265 val accuracy: 0.354000\n",
      "lr 3.400000e-07 reg 2.500000e+04 train accuracy: 0.355020 val accuracy: 0.364000\n",
      "lr 3.400000e-07 reg 2.600000e+04 train accuracy: 0.347449 val accuracy: 0.365000\n",
      "lr 3.400000e-07 reg 2.700000e+04 train accuracy: 0.345122 val accuracy: 0.359000\n",
      "lr 3.400000e-07 reg 2.800000e+04 train accuracy: 0.350020 val accuracy: 0.358000\n",
      "lr 3.400000e-07 reg 2.900000e+04 train accuracy: 0.345796 val accuracy: 0.355000\n",
      "best validation accuracy achieved during cross-validation: 0.374000\n"
     ]
    }
   ],
   "source": [
    "# Use the validation set to tune hyperparameters (regularization strength and\n",
    "# learning rate). You should experiment with different ranges for the learning\n",
    "# rates and regularization strengths; if you are careful you should be able to\n",
    "# get a classification accuracy of over 0.35 on the validation set.\n",
    "from cs231n.classifiers import Softmax\n",
    "results = {}\n",
    "best_val = -1\n",
    "best_softmax = None\n",
    "learning_rates = [1e-7, 5e-7]\n",
    "regularization_strengths = [2.5e4, 5e4]\n",
    "\n",
    "################################################################################\n",
    "# TODO:                                                                        #\n",
    "# Use the validation set to set the learning rate and regularization strength. #\n",
    "# This should be identical to the validation that you did for the SVM; save    #\n",
    "# the best trained softmax classifer in best_softmax.                          #\n",
    "################################################################################\n",
    "softmax=Softmax()\n",
    "import copy\n",
    "trial_iter=500\n",
    "for lr in np.arange(2.5e-7, 3.5e-7, 1e-8):\n",
    "    for re in np.arange(2.5e4, 3e4 ,1e3):\n",
    "        loss_hist = softmax.train(X_train, y_train, learning_rate=lr, reg=re,\n",
    "                              num_iters=trial_iter, verbose=False)\n",
    "        y_train_pred = softmax.predict(X_train)\n",
    "        train_correct_rate= np.mean(y_train == y_train_pred)\n",
    "        y_val_pred = softmax.predict(X_val)\n",
    "        val_correct_rate= np.mean(y_val == y_val_pred)\n",
    "        results[(lr,re)] = (train_correct_rate,val_correct_rate)\n",
    "        if val_correct_rate>best_val:\n",
    "            best_val=val_correct_rate\n",
    "            best_softmax=copy.deepcopy(softmax)\n",
    "################################################################################\n",
    "#                              END OF YOUR CODE                                #\n",
    "################################################################################\n",
    "    \n",
    "# Print out results.\n",
    "for lr, reg in sorted(results):\n",
    "    train_accuracy, val_accuracy = results[(lr, reg)]\n",
    "    print('lr %e reg %e train accuracy: %f val accuracy: %f' % (\n",
    "                lr, reg, train_accuracy, val_accuracy))\n",
    "    \n",
    "print('best validation accuracy achieved during cross-validation: %f' % best_val)"
   ]
  },
  {
   "cell_type": "code",
   "execution_count": 16,
   "metadata": {},
   "outputs": [
    {
     "name": "stdout",
     "output_type": "stream",
     "text": [
      "softmax on raw pixels final test set accuracy: 0.363000\n"
     ]
    }
   ],
   "source": [
    "# evaluate on test set\n",
    "# Evaluate the best softmax on test set\n",
    "y_test_pred = best_softmax.predict(X_test)\n",
    "test_accuracy = np.mean(y_test == y_test_pred)\n",
    "print('softmax on raw pixels final test set accuracy: %f' % (test_accuracy, ))"
   ]
  },
  {
   "cell_type": "code",
   "execution_count": 17,
   "metadata": {},
   "outputs": [
    {
     "data": {
      "image/png": "[encoded data removed]",
      "text/plain": [
       "<Figure size 720x576 with 10 Axes>"
      ]
     },
     "metadata": {},
     "output_type": "display_data"
    }
   ],
   "source": [
    "# Visualize the learned weights for each class\n",
    "w = best_softmax.W[:-1,:] # strip out the bias\n",
    "w = w.reshape(32, 32, 3, 10)\n",
    "\n",
    "w_min, w_max = np.min(w), np.max(w)\n",
    "\n",
    "classes = ['plane', 'car', 'bird', 'cat', 'deer', 'dog', 'frog', 'horse', 'ship', 'truck']\n",
    "for i in range(10):\n",
    "    plt.subplot(2, 5, i + 1)\n",
    "    \n",
    "    # Rescale the weights to be between 0 and 255\n",
    "    wimg = 255.0 * (w[:, :, :, i].squeeze() - w_min) / (w_max - w_min)\n",
    "    plt.imshow(wimg.astype('uint8'))\n",
    "    plt.axis('off')\n",
    "    plt.title(classes[i])"
   ]
  },
  {
   "cell_type": "code",
   "execution_count": null,
   "metadata": {},
   "outputs": [],
   "source": []
  },
  {
   "cell_type": "code",
   "execution_count": null,
   "metadata": {},
   "outputs": [],
   "source": []
  },
  {
   "cell_type": "code",
   "execution_count": null,
   "metadata": {},
   "outputs": [],
   "source": []
  }
 ],
 "metadata": {
  "kernelspec": {
   "display_name": "python35",
   "language": "python",
   "name": "python35"
  },
  "language_info": {
   "codemirror_mode": {
    "name": "ipython",
    "version": 3
   },
   "file_extension": ".py",
   "mimetype": "text/x-python",
   "name": "python",
   "nbconvert_exporter": "python",
   "pygments_lexer": "ipython3",
   "version": "3.5.4"
  }
 },
 "nbformat": 4,
 "nbformat_minor": 1
}
